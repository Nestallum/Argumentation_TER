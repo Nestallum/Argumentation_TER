{
 "cells": [
  {
   "cell_type": "code",
   "execution_count": 1,
   "metadata": {},
   "outputs": [
    {
     "data": {
      "text/plain": [
       "[   Unnamed: 0        vp      tour  nbCoup/byTurnW2  nbCoup/byTurnW3  \\\n",
       " 0           6  0.176440  4.844444              NaN              NaN   \n",
       " 1           7  0.173475  5.260526              NaN              NaN   \n",
       " 2           2  0.183766  4.250000            2.400         2.433333   \n",
       " 3           3  0.177763  4.950000              NaN         2.133333   \n",
       " 4           4  0.178761  4.425000              NaN              NaN   \n",
       " 5           5  0.172687  3.806250              NaN              NaN   \n",
       " 6           1       NaN       NaN            2.825         2.700000   \n",
       " \n",
       "    nbCoup/byTurnW4  nbCoup/byTurnW5  nbCoup/byTurnW6  nbCoup/byTurnW7  \n",
       " 0              NaN              NaN         1.249306         1.392014  \n",
       " 1              NaN              NaN              NaN         1.304335  \n",
       " 2         2.172917         1.724167         1.991111         2.107341  \n",
       " 3         1.856250         1.506667         1.809028         1.897540  \n",
       " 4         1.656250         1.333333         1.607917         1.652302  \n",
       " 5              NaN         1.031250         1.415139         1.501091  \n",
       " 6         2.391667         1.881667         2.130139         2.216746  ]"
      ]
     },
     "execution_count": 1,
     "metadata": {},
     "output_type": "execute_result"
    }
   ],
   "source": [
    "import os\n",
    "import pandas as pd\n",
    "\n",
    "def create_csv_link(dossier):\n",
    "    # Vérifier si le chemin spécifié est un dossier\n",
    "    if not os.path.isdir(dossier):\n",
    "        return \"Le chemin spécifié n'est pas un dossier.\"\n",
    "\n",
    "    # Initialiser le compteur de fichiers\n",
    "    nombre_fichiers = 0\n",
    "    liste_of_df=[]\n",
    "    # Parcourir tous les éléments du dossier\n",
    "    for element in os.listdir(dossier):\n",
    "        chemin_element = os.path.join(dossier, element)\n",
    "        # Vérifier si l'élément est un fichier\n",
    "        \n",
    "        df=pd.read_csv(chemin_element)\n",
    "        liste_of_df.append(df)\n",
    "\n",
    "    return liste_of_df\n",
    "\n",
    "create_csv_link(\"csv/csv_UG\")\n",
    "\n"
   ]
  }
 ],
 "metadata": {
  "kernelspec": {
   "display_name": "Python 3",
   "language": "python",
   "name": "python3"
  },
  "language_info": {
   "codemirror_mode": {
    "name": "ipython",
    "version": 3
   },
   "file_extension": ".py",
   "mimetype": "text/x-python",
   "name": "python",
   "nbconvert_exporter": "python",
   "pygments_lexer": "ipython3",
   "version": "3.10.11"
  }
 },
 "nbformat": 4,
 "nbformat_minor": 2
}
